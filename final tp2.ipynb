{
 "cells": [
  {
   "cell_type": "code",
   "execution_count": null,
   "metadata": {},
   "outputs": [],
   "source": [
    "from numpy import *\n",
    "numero_filas = int(input(\"ingrese el numero de filas\"))\n",
    "numero_columnas = int(input(\"ingrese el numero de columnas\"))\n",
    "matriz = []\n",
    "for i in range(numero_filas):\n",
    "    ign = int(input(\"ingrese a matriz[{},{}]\".format(i+1,i+1)))\n",
    "    matriz.append([ign])\n",
    "    for j in range(numero_columnas-1):\n",
    "        ign = int(input(\"ingrese matriz[{},{}]\".format(i+1,j+2)))\n",
    "        matriz[i].append(ign)    \n",
    "print(matriz)\n",
    "array(matriz)"
   ]
  }
 ],
 "metadata": {
  "kernelspec": {
   "display_name": "Python 3",
   "language": "python",
   "name": "python3"
  },
  "language_info": {
   "codemirror_mode": {
    "name": "ipython",
    "version": 3
   },
   "file_extension": ".py",
   "mimetype": "text/x-python",
   "name": "python",
   "nbconvert_exporter": "python",
   "pygments_lexer": "ipython3",
   "version": "3.7.3"
  }
 },
 "nbformat": 4,
 "nbformat_minor": 2
}
